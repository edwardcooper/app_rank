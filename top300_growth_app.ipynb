{
 "cells": [
  {
   "cell_type": "markdown",
   "metadata": {},
   "source": [
    "# Data analysis"
   ]
  },
  {
   "cell_type": "markdown",
   "metadata": {},
   "source": [
    "> Goal: Generate a list of top 300 subscription apps that had the best\n",
    "rank growth over the past 365 days."
   ]
  },
  {
   "cell_type": "code",
   "execution_count": 1,
   "metadata": {},
   "outputs": [],
   "source": [
    "# read in data\n",
    "from joblib import dump, load\n",
    "import numpy as np\n",
    "# for linear regression\n",
    "from scipy.stats import linregress\n",
    "import pandas as pd"
   ]
  },
  {
   "cell_type": "code",
   "execution_count": 2,
   "metadata": {},
   "outputs": [],
   "source": [
    "app_info = load(\"app_info_df.pkl\")"
   ]
  },
  {
   "cell_type": "code",
   "execution_count": 3,
   "metadata": {},
   "outputs": [],
   "source": [
    "app_rank = load(\"app_rank_df.pkl\")"
   ]
  },
  {
   "cell_type": "code",
   "execution_count": 4,
   "metadata": {
    "scrolled": false
   },
   "outputs": [
    {
     "data": {
      "text/html": [
       "<div>\n",
       "<style scoped>\n",
       "    .dataframe tbody tr th:only-of-type {\n",
       "        vertical-align: middle;\n",
       "    }\n",
       "\n",
       "    .dataframe tbody tr th {\n",
       "        vertical-align: top;\n",
       "    }\n",
       "\n",
       "    .dataframe thead th {\n",
       "        text-align: right;\n",
       "    }\n",
       "</style>\n",
       "<table border=\"1\" class=\"dataframe\">\n",
       "  <thead>\n",
       "    <tr style=\"text-align: right;\">\n",
       "      <th></th>\n",
       "      <th>app_name</th>\n",
       "      <th>developer</th>\n",
       "      <th>website</th>\n",
       "      <th>category</th>\n",
       "      <th>is_editor_choice</th>\n",
       "      <th>rating_oo5</th>\n",
       "      <th>num_ratings</th>\n",
       "      <th>has_iap</th>\n",
       "      <th>release_date</th>\n",
       "      <th>current_version</th>\n",
       "      <th>age_rating</th>\n",
       "      <th>file_size</th>\n",
       "      <th>editor_notes</th>\n",
       "      <th>description</th>\n",
       "      <th>os_compatibility</th>\n",
       "      <th>languages</th>\n",
       "      <th>price</th>\n",
       "      <th>itunes_link</th>\n",
       "      <th>date</th>\n",
       "    </tr>\n",
       "    <tr>\n",
       "      <th>itunes_app_id</th>\n",
       "      <th></th>\n",
       "      <th></th>\n",
       "      <th></th>\n",
       "      <th></th>\n",
       "      <th></th>\n",
       "      <th></th>\n",
       "      <th></th>\n",
       "      <th></th>\n",
       "      <th></th>\n",
       "      <th></th>\n",
       "      <th></th>\n",
       "      <th></th>\n",
       "      <th></th>\n",
       "      <th></th>\n",
       "      <th></th>\n",
       "      <th></th>\n",
       "      <th></th>\n",
       "      <th></th>\n",
       "      <th></th>\n",
       "    </tr>\n",
       "  </thead>\n",
       "  <tbody>\n",
       "    <tr>\n",
       "      <th>573984719</th>\n",
       "      <td>Advent Calendar: 25 Christmas Apps</td>\n",
       "      <td>MagicSolver</td>\n",
       "      <td>http://www.magicsolver.com/</td>\n",
       "      <td>Lifestyle</td>\n",
       "      <td>False</td>\n",
       "      <td>3.9</td>\n",
       "      <td>145</td>\n",
       "      <td>False</td>\n",
       "      <td>Nov 24, 2015</td>\n",
       "      <td>1.1</td>\n",
       "      <td>Rated 4+</td>\n",
       "      <td>61.3 MB</td>\n",
       "      <td>NaN</td>\n",
       "      <td>\\nDescription\\n\\n\\nDiscover 25 of the finest f...</td>\n",
       "      <td>Requires iOS 7.0 or later. Compatible with iPh...</td>\n",
       "      <td>English, Arabic, Dutch, French, German, Italia...</td>\n",
       "      <td>Free</td>\n",
       "      <td>https://itunes.apple.com/app/id573984719</td>\n",
       "      <td>2019-06-11-1512</td>\n",
       "    </tr>\n",
       "    <tr>\n",
       "      <th>424216726</th>\n",
       "      <td>Countdown‼</td>\n",
       "      <td>Sevenlogics, Inc.</td>\n",
       "      <td>http://www.sevenlogics.com/mobile-apps/countdo...</td>\n",
       "      <td>Lifestyle</td>\n",
       "      <td>False</td>\n",
       "      <td>3.8</td>\n",
       "      <td>5500</td>\n",
       "      <td>True</td>\n",
       "      <td>Jun 7, 2019</td>\n",
       "      <td>4.3.7</td>\n",
       "      <td>Rated 4+</td>\n",
       "      <td>152.7 MB</td>\n",
       "      <td>NaN</td>\n",
       "      <td>\\nDescription\\n\\n\\nCount down to your next eve...</td>\n",
       "      <td>Requires iOS 9.0 or later. Compatible with iPh...</td>\n",
       "      <td>English, Danish, Dutch, Finnish, French, Germa...</td>\n",
       "      <td>Free</td>\n",
       "      <td>https://itunes.apple.com/app/id424216726</td>\n",
       "      <td>2019-06-11-1512</td>\n",
       "    </tr>\n",
       "    <tr>\n",
       "      <th>983764757</th>\n",
       "      <td>ShowOne - Pro Backing Tracks</td>\n",
       "      <td>One Zero One Audio</td>\n",
       "      <td>http://www.showoneapp.com</td>\n",
       "      <td>Music</td>\n",
       "      <td>False</td>\n",
       "      <td>4.4</td>\n",
       "      <td>41</td>\n",
       "      <td>True</td>\n",
       "      <td>Jan 3, 2019</td>\n",
       "      <td>1.3.11</td>\n",
       "      <td>Rated 4+</td>\n",
       "      <td>63.7 MB</td>\n",
       "      <td>NaN</td>\n",
       "      <td>\\nDescription\\n\\n\\nShowOne is a pro app for mu...</td>\n",
       "      <td>Requires iOS 9.3 or later. Compatible with iPh...</td>\n",
       "      <td>English</td>\n",
       "      <td>Free</td>\n",
       "      <td>https://itunes.apple.com/app/id983764757</td>\n",
       "      <td>2019-06-11-1512</td>\n",
       "    </tr>\n",
       "    <tr>\n",
       "      <th>422370120</th>\n",
       "      <td>iPoll</td>\n",
       "      <td>Instantly, Inc.</td>\n",
       "      <td>http://www.ipoll.com</td>\n",
       "      <td>Lifestyle</td>\n",
       "      <td>False</td>\n",
       "      <td>3.7</td>\n",
       "      <td>2100</td>\n",
       "      <td>False</td>\n",
       "      <td>Apr 22, 2019</td>\n",
       "      <td>3.16.1</td>\n",
       "      <td>You must be at least 17 years old to download ...</td>\n",
       "      <td>80.6 MB</td>\n",
       "      <td>NaN</td>\n",
       "      <td>\\nDescription\\n\\n\\nRewards. Anywhere, Anytime....</td>\n",
       "      <td>Requires iOS 10.0 or later. Compatible with iP...</td>\n",
       "      <td>English</td>\n",
       "      <td>Free</td>\n",
       "      <td>https://itunes.apple.com/app/id422370120</td>\n",
       "      <td>2019-06-11-1512</td>\n",
       "    </tr>\n",
       "    <tr>\n",
       "      <th>443052658</th>\n",
       "      <td>Surveys On The Go</td>\n",
       "      <td>MFour Mobile Research, Inc</td>\n",
       "      <td>http://www.surveysonthego.net</td>\n",
       "      <td>Lifestyle</td>\n",
       "      <td>False</td>\n",
       "      <td>4.6</td>\n",
       "      <td>23100</td>\n",
       "      <td>False</td>\n",
       "      <td>May 8, 2019</td>\n",
       "      <td>2.37</td>\n",
       "      <td>Rated 12+ for the following:</td>\n",
       "      <td>85.1 MB</td>\n",
       "      <td>NaN</td>\n",
       "      <td>\\nDescription\\n\\n\\nFortune 500 companies, the ...</td>\n",
       "      <td>Requires iOS 10.0 or later. Compatible with iP...</td>\n",
       "      <td>English</td>\n",
       "      <td>Free</td>\n",
       "      <td>https://itunes.apple.com/app/id443052658</td>\n",
       "      <td>2019-06-11-1512</td>\n",
       "    </tr>\n",
       "  </tbody>\n",
       "</table>\n",
       "</div>"
      ],
      "text/plain": [
       "                                         app_name                   developer  \\\n",
       "itunes_app_id                                                                   \n",
       "573984719      Advent Calendar: 25 Christmas Apps                 MagicSolver   \n",
       "424216726                              Countdown‼           Sevenlogics, Inc.   \n",
       "983764757            ShowOne - Pro Backing Tracks          One Zero One Audio   \n",
       "422370120                                   iPoll             Instantly, Inc.   \n",
       "443052658                       Surveys On The Go  MFour Mobile Research, Inc   \n",
       "\n",
       "                                                         website   category  \\\n",
       "itunes_app_id                                                                 \n",
       "573984719                            http://www.magicsolver.com/  Lifestyle   \n",
       "424216726      http://www.sevenlogics.com/mobile-apps/countdo...  Lifestyle   \n",
       "983764757                              http://www.showoneapp.com      Music   \n",
       "422370120                                   http://www.ipoll.com  Lifestyle   \n",
       "443052658                          http://www.surveysonthego.net  Lifestyle   \n",
       "\n",
       "              is_editor_choice rating_oo5 num_ratings has_iap  release_date  \\\n",
       "itunes_app_id                                                                 \n",
       "573984719                False        3.9         145   False  Nov 24, 2015   \n",
       "424216726                False        3.8        5500    True   Jun 7, 2019   \n",
       "983764757                False        4.4          41    True   Jan 3, 2019   \n",
       "422370120                False        3.7        2100   False  Apr 22, 2019   \n",
       "443052658                False        4.6       23100   False   May 8, 2019   \n",
       "\n",
       "              current_version  \\\n",
       "itunes_app_id                   \n",
       "573984719                 1.1   \n",
       "424216726               4.3.7   \n",
       "983764757              1.3.11   \n",
       "422370120              3.16.1   \n",
       "443052658                2.37   \n",
       "\n",
       "                                                      age_rating file_size  \\\n",
       "itunes_app_id                                                                \n",
       "573984719                                               Rated 4+   61.3 MB   \n",
       "424216726                                               Rated 4+  152.7 MB   \n",
       "983764757                                               Rated 4+   63.7 MB   \n",
       "422370120      You must be at least 17 years old to download ...   80.6 MB   \n",
       "443052658                           Rated 12+ for the following:   85.1 MB   \n",
       "\n",
       "              editor_notes                                        description  \\\n",
       "itunes_app_id                                                                   \n",
       "573984719              NaN  \\nDescription\\n\\n\\nDiscover 25 of the finest f...   \n",
       "424216726              NaN  \\nDescription\\n\\n\\nCount down to your next eve...   \n",
       "983764757              NaN  \\nDescription\\n\\n\\nShowOne is a pro app for mu...   \n",
       "422370120              NaN  \\nDescription\\n\\n\\nRewards. Anywhere, Anytime....   \n",
       "443052658              NaN  \\nDescription\\n\\n\\nFortune 500 companies, the ...   \n",
       "\n",
       "                                                os_compatibility  \\\n",
       "itunes_app_id                                                      \n",
       "573984719      Requires iOS 7.0 or later. Compatible with iPh...   \n",
       "424216726      Requires iOS 9.0 or later. Compatible with iPh...   \n",
       "983764757      Requires iOS 9.3 or later. Compatible with iPh...   \n",
       "422370120      Requires iOS 10.0 or later. Compatible with iP...   \n",
       "443052658      Requires iOS 10.0 or later. Compatible with iP...   \n",
       "\n",
       "                                                       languages price  \\\n",
       "itunes_app_id                                                            \n",
       "573984719      English, Arabic, Dutch, French, German, Italia...  Free   \n",
       "424216726      English, Danish, Dutch, Finnish, French, Germa...  Free   \n",
       "983764757                                                English  Free   \n",
       "422370120                                                English  Free   \n",
       "443052658                                                English  Free   \n",
       "\n",
       "                                            itunes_link             date  \n",
       "itunes_app_id                                                             \n",
       "573984719      https://itunes.apple.com/app/id573984719  2019-06-11-1512  \n",
       "424216726      https://itunes.apple.com/app/id424216726  2019-06-11-1512  \n",
       "983764757      https://itunes.apple.com/app/id983764757  2019-06-11-1512  \n",
       "422370120      https://itunes.apple.com/app/id422370120  2019-06-11-1512  \n",
       "443052658      https://itunes.apple.com/app/id443052658  2019-06-11-1512  "
      ]
     },
     "execution_count": 4,
     "metadata": {},
     "output_type": "execute_result"
    }
   ],
   "source": [
    "app_info.head()"
   ]
  },
  {
   "cell_type": "markdown",
   "metadata": {},
   "source": [
    "Look at the shape of the data. "
   ]
  },
  {
   "cell_type": "code",
   "execution_count": 5,
   "metadata": {
    "scrolled": true
   },
   "outputs": [
    {
     "data": {
      "text/plain": [
       "(68834, 19)"
      ]
     },
     "execution_count": 5,
     "metadata": {},
     "output_type": "execute_result"
    }
   ],
   "source": [
    "app_info.shape"
   ]
  },
  {
   "cell_type": "code",
   "execution_count": 6,
   "metadata": {},
   "outputs": [
    {
     "data": {
      "text/plain": [
       "(152249, 849)"
      ]
     },
     "execution_count": 6,
     "metadata": {},
     "output_type": "execute_result"
    }
   ],
   "source": [
    "app_rank.shape"
   ]
  },
  {
   "cell_type": "markdown",
   "metadata": {},
   "source": [
    "Define a function to determine if an app is subscription-based by using keywords 'subscription', 'renewal','subscribe',\"renew\""
   ]
  },
  {
   "cell_type": "code",
   "execution_count": 7,
   "metadata": {},
   "outputs": [],
   "source": [
    "def subscription(description):\n",
    "    subscribe_str_list = ['subscription', 'renewal','subscribe',\"renew\"]\n",
    "    \n",
    "    # if the description contains any of the words \n",
    "    # in subscribe_str_list, then return \"Yes\"\n",
    "    for word in subscribe_str_list:\n",
    "        if word in description:\n",
    "            return \"Yes\"\n",
    "        \n",
    "    # if none of the words in subscribe_str_list is in description,\n",
    "    # then return \"No\"   \n",
    "    return \"No\""
   ]
  },
  {
   "cell_type": "markdown",
   "metadata": {},
   "source": [
    "If I was given more time, I can use word2vec to find similar words.  "
   ]
  },
  {
   "cell_type": "markdown",
   "metadata": {},
   "source": [
    "Generate a column named `subscription` by using the `subscription` function. "
   ]
  },
  {
   "cell_type": "code",
   "execution_count": 8,
   "metadata": {},
   "outputs": [],
   "source": [
    "app_info['subscription'] = app_info['description'].apply(subscription)"
   ]
  },
  {
   "cell_type": "code",
   "execution_count": 9,
   "metadata": {
    "scrolled": true
   },
   "outputs": [
    {
     "data": {
      "text/plain": [
       "No     57721\n",
       "Yes    11113\n",
       "Name: subscription, dtype: int64"
      ]
     },
     "execution_count": 9,
     "metadata": {},
     "output_type": "execute_result"
    }
   ],
   "source": [
    "app_info['subscription'].value_counts()"
   ]
  },
  {
   "cell_type": "markdown",
   "metadata": {},
   "source": [
    "There is a total 11113 non-subscription app and 57721 subscription app. "
   ]
  },
  {
   "cell_type": "markdown",
   "metadata": {},
   "source": [
    "## Subset the `app_info` to get a df with all subscription-based apps. "
   ]
  },
  {
   "cell_type": "code",
   "execution_count": 10,
   "metadata": {},
   "outputs": [],
   "source": [
    "subscribe_app_index = app_info['subscription'] == \"Yes\""
   ]
  },
  {
   "cell_type": "code",
   "execution_count": 11,
   "metadata": {},
   "outputs": [],
   "source": [
    "subscribe_app_info = app_info[subscribe_app_index]"
   ]
  },
  {
   "cell_type": "code",
   "execution_count": 12,
   "metadata": {},
   "outputs": [
    {
     "data": {
      "text/plain": [
       "array(['1000017994', '1000247107', '1000332606', ..., '999694732',\n",
       "       '999769961', '999834966'], dtype=object)"
      ]
     },
     "execution_count": 12,
     "metadata": {},
     "output_type": "execute_result"
    }
   ],
   "source": [
    "np.sort(subscribe_app_info.index.values)"
   ]
  },
  {
   "cell_type": "code",
   "execution_count": 13,
   "metadata": {},
   "outputs": [
    {
     "data": {
      "text/plain": [
       "(152249, 849)"
      ]
     },
     "execution_count": 13,
     "metadata": {},
     "output_type": "execute_result"
    }
   ],
   "source": [
    "app_rank.shape"
   ]
  },
  {
   "cell_type": "code",
   "execution_count": 14,
   "metadata": {},
   "outputs": [],
   "source": [
    "subscribe_rank_df = app_rank.loc[subscribe_app_info.index]"
   ]
  },
  {
   "cell_type": "code",
   "execution_count": 15,
   "metadata": {},
   "outputs": [],
   "source": [
    "subscribe_rank2_df = subscribe_rank_df.copy()"
   ]
  },
  {
   "cell_type": "code",
   "execution_count": 16,
   "metadata": {},
   "outputs": [
    {
     "data": {
      "text/plain": [
       "(20587, 849)"
      ]
     },
     "execution_count": 16,
     "metadata": {},
     "output_type": "execute_result"
    }
   ],
   "source": [
    "subscribe_rank_df.shape"
   ]
  },
  {
   "cell_type": "markdown",
   "metadata": {},
   "source": [
    "Any rows that contains all NAN values? "
   ]
  },
  {
   "cell_type": "code",
   "execution_count": 17,
   "metadata": {
    "scrolled": true
   },
   "outputs": [
    {
     "data": {
      "text/plain": [
       "0"
      ]
     },
     "execution_count": 17,
     "metadata": {},
     "output_type": "execute_result"
    }
   ],
   "source": [
    "sum(subscribe_rank2_df.isna().sum(axis = 1) ==849)"
   ]
  },
  {
   "cell_type": "markdown",
   "metadata": {},
   "source": [
    "Doing forward fill"
   ]
  },
  {
   "cell_type": "code",
   "execution_count": 18,
   "metadata": {},
   "outputs": [
    {
     "data": {
      "text/html": [
       "<div>\n",
       "<style scoped>\n",
       "    .dataframe tbody tr th:only-of-type {\n",
       "        vertical-align: middle;\n",
       "    }\n",
       "\n",
       "    .dataframe tbody tr th {\n",
       "        vertical-align: top;\n",
       "    }\n",
       "\n",
       "    .dataframe thead th {\n",
       "        text-align: right;\n",
       "    }\n",
       "</style>\n",
       "<table border=\"1\" class=\"dataframe\">\n",
       "  <thead>\n",
       "    <tr style=\"text-align: right;\">\n",
       "      <th></th>\n",
       "      <th>date</th>\n",
       "      <th>2016-12-08</th>\n",
       "      <th>2016-12-09</th>\n",
       "      <th>2016-12-10</th>\n",
       "      <th>2016-12-11</th>\n",
       "      <th>2016-12-12</th>\n",
       "      <th>2016-12-13</th>\n",
       "      <th>2016-12-14</th>\n",
       "      <th>2016-12-15</th>\n",
       "      <th>2016-12-16</th>\n",
       "      <th>2016-12-17</th>\n",
       "      <th>...</th>\n",
       "      <th>2019-06-02</th>\n",
       "      <th>2019-06-03</th>\n",
       "      <th>2019-06-04</th>\n",
       "      <th>2019-06-05</th>\n",
       "      <th>2019-06-06</th>\n",
       "      <th>2019-06-07</th>\n",
       "      <th>2019-06-08</th>\n",
       "      <th>2019-06-09</th>\n",
       "      <th>2019-06-10</th>\n",
       "      <th>2019-06-11</th>\n",
       "    </tr>\n",
       "    <tr>\n",
       "      <th>itunes_app_id</th>\n",
       "      <th>rating_list</th>\n",
       "      <th></th>\n",
       "      <th></th>\n",
       "      <th></th>\n",
       "      <th></th>\n",
       "      <th></th>\n",
       "      <th></th>\n",
       "      <th></th>\n",
       "      <th></th>\n",
       "      <th></th>\n",
       "      <th></th>\n",
       "      <th></th>\n",
       "      <th></th>\n",
       "      <th></th>\n",
       "      <th></th>\n",
       "      <th></th>\n",
       "      <th></th>\n",
       "      <th></th>\n",
       "      <th></th>\n",
       "      <th></th>\n",
       "      <th></th>\n",
       "      <th></th>\n",
       "    </tr>\n",
       "  </thead>\n",
       "  <tbody>\n",
       "    <tr>\n",
       "      <th rowspan=\"2\" valign=\"top\">1000017994</th>\n",
       "      <th>Health-and-fitness - topfreeapplications</th>\n",
       "      <td>NaN</td>\n",
       "      <td>NaN</td>\n",
       "      <td>NaN</td>\n",
       "      <td>165.0</td>\n",
       "      <td>191.0</td>\n",
       "      <td>NaN</td>\n",
       "      <td>197.0</td>\n",
       "      <td>193.0</td>\n",
       "      <td>164.0</td>\n",
       "      <td>136.0</td>\n",
       "      <td>...</td>\n",
       "      <td>NaN</td>\n",
       "      <td>NaN</td>\n",
       "      <td>NaN</td>\n",
       "      <td>125.0</td>\n",
       "      <td>109.0</td>\n",
       "      <td>125.0</td>\n",
       "      <td>NaN</td>\n",
       "      <td>125.0</td>\n",
       "      <td>125.0</td>\n",
       "      <td>125.0</td>\n",
       "    </tr>\n",
       "    <tr>\n",
       "      <th>Health-and-fitness - topgrossingapplications</th>\n",
       "      <td>NaN</td>\n",
       "      <td>NaN</td>\n",
       "      <td>NaN</td>\n",
       "      <td>NaN</td>\n",
       "      <td>NaN</td>\n",
       "      <td>NaN</td>\n",
       "      <td>NaN</td>\n",
       "      <td>NaN</td>\n",
       "      <td>NaN</td>\n",
       "      <td>NaN</td>\n",
       "      <td>...</td>\n",
       "      <td>NaN</td>\n",
       "      <td>183.0</td>\n",
       "      <td>NaN</td>\n",
       "      <td>NaN</td>\n",
       "      <td>NaN</td>\n",
       "      <td>183.0</td>\n",
       "      <td>NaN</td>\n",
       "      <td>NaN</td>\n",
       "      <td>NaN</td>\n",
       "      <td>NaN</td>\n",
       "    </tr>\n",
       "    <tr>\n",
       "      <th>1000247107</th>\n",
       "      <th>Medical - topgrossingapplications</th>\n",
       "      <td>NaN</td>\n",
       "      <td>NaN</td>\n",
       "      <td>NaN</td>\n",
       "      <td>NaN</td>\n",
       "      <td>NaN</td>\n",
       "      <td>NaN</td>\n",
       "      <td>NaN</td>\n",
       "      <td>NaN</td>\n",
       "      <td>NaN</td>\n",
       "      <td>NaN</td>\n",
       "      <td>...</td>\n",
       "      <td>NaN</td>\n",
       "      <td>NaN</td>\n",
       "      <td>NaN</td>\n",
       "      <td>NaN</td>\n",
       "      <td>NaN</td>\n",
       "      <td>NaN</td>\n",
       "      <td>NaN</td>\n",
       "      <td>NaN</td>\n",
       "      <td>NaN</td>\n",
       "      <td>NaN</td>\n",
       "    </tr>\n",
       "    <tr>\n",
       "      <th rowspan=\"2\" valign=\"top\">1000332606</th>\n",
       "      <th>Photo-and-Video - topfreeapplications</th>\n",
       "      <td>NaN</td>\n",
       "      <td>NaN</td>\n",
       "      <td>NaN</td>\n",
       "      <td>NaN</td>\n",
       "      <td>NaN</td>\n",
       "      <td>NaN</td>\n",
       "      <td>NaN</td>\n",
       "      <td>NaN</td>\n",
       "      <td>NaN</td>\n",
       "      <td>NaN</td>\n",
       "      <td>...</td>\n",
       "      <td>NaN</td>\n",
       "      <td>NaN</td>\n",
       "      <td>NaN</td>\n",
       "      <td>NaN</td>\n",
       "      <td>NaN</td>\n",
       "      <td>NaN</td>\n",
       "      <td>NaN</td>\n",
       "      <td>NaN</td>\n",
       "      <td>NaN</td>\n",
       "      <td>NaN</td>\n",
       "    </tr>\n",
       "    <tr>\n",
       "      <th>Photo-and-Video - topgrossingapplications</th>\n",
       "      <td>NaN</td>\n",
       "      <td>NaN</td>\n",
       "      <td>NaN</td>\n",
       "      <td>NaN</td>\n",
       "      <td>NaN</td>\n",
       "      <td>NaN</td>\n",
       "      <td>NaN</td>\n",
       "      <td>NaN</td>\n",
       "      <td>NaN</td>\n",
       "      <td>NaN</td>\n",
       "      <td>...</td>\n",
       "      <td>176.0</td>\n",
       "      <td>165.0</td>\n",
       "      <td>165.0</td>\n",
       "      <td>165.0</td>\n",
       "      <td>157.0</td>\n",
       "      <td>176.0</td>\n",
       "      <td>165.0</td>\n",
       "      <td>165.0</td>\n",
       "      <td>176.0</td>\n",
       "      <td>165.0</td>\n",
       "    </tr>\n",
       "  </tbody>\n",
       "</table>\n",
       "<p>5 rows × 849 columns</p>\n",
       "</div>"
      ],
      "text/plain": [
       "date                                                        2016-12-08  \\\n",
       "itunes_app_id rating_list                                                \n",
       "1000017994    Health-and-fitness - topfreeapplications             NaN   \n",
       "              Health-and-fitness - topgrossingapplications         NaN   \n",
       "1000247107    Medical - topgrossingapplications                    NaN   \n",
       "1000332606    Photo-and-Video - topfreeapplications                NaN   \n",
       "              Photo-and-Video - topgrossingapplications            NaN   \n",
       "\n",
       "date                                                        2016-12-09  \\\n",
       "itunes_app_id rating_list                                                \n",
       "1000017994    Health-and-fitness - topfreeapplications             NaN   \n",
       "              Health-and-fitness - topgrossingapplications         NaN   \n",
       "1000247107    Medical - topgrossingapplications                    NaN   \n",
       "1000332606    Photo-and-Video - topfreeapplications                NaN   \n",
       "              Photo-and-Video - topgrossingapplications            NaN   \n",
       "\n",
       "date                                                        2016-12-10  \\\n",
       "itunes_app_id rating_list                                                \n",
       "1000017994    Health-and-fitness - topfreeapplications             NaN   \n",
       "              Health-and-fitness - topgrossingapplications         NaN   \n",
       "1000247107    Medical - topgrossingapplications                    NaN   \n",
       "1000332606    Photo-and-Video - topfreeapplications                NaN   \n",
       "              Photo-and-Video - topgrossingapplications            NaN   \n",
       "\n",
       "date                                                        2016-12-11  \\\n",
       "itunes_app_id rating_list                                                \n",
       "1000017994    Health-and-fitness - topfreeapplications           165.0   \n",
       "              Health-and-fitness - topgrossingapplications         NaN   \n",
       "1000247107    Medical - topgrossingapplications                    NaN   \n",
       "1000332606    Photo-and-Video - topfreeapplications                NaN   \n",
       "              Photo-and-Video - topgrossingapplications            NaN   \n",
       "\n",
       "date                                                        2016-12-12  \\\n",
       "itunes_app_id rating_list                                                \n",
       "1000017994    Health-and-fitness - topfreeapplications           191.0   \n",
       "              Health-and-fitness - topgrossingapplications         NaN   \n",
       "1000247107    Medical - topgrossingapplications                    NaN   \n",
       "1000332606    Photo-and-Video - topfreeapplications                NaN   \n",
       "              Photo-and-Video - topgrossingapplications            NaN   \n",
       "\n",
       "date                                                        2016-12-13  \\\n",
       "itunes_app_id rating_list                                                \n",
       "1000017994    Health-and-fitness - topfreeapplications             NaN   \n",
       "              Health-and-fitness - topgrossingapplications         NaN   \n",
       "1000247107    Medical - topgrossingapplications                    NaN   \n",
       "1000332606    Photo-and-Video - topfreeapplications                NaN   \n",
       "              Photo-and-Video - topgrossingapplications            NaN   \n",
       "\n",
       "date                                                        2016-12-14  \\\n",
       "itunes_app_id rating_list                                                \n",
       "1000017994    Health-and-fitness - topfreeapplications           197.0   \n",
       "              Health-and-fitness - topgrossingapplications         NaN   \n",
       "1000247107    Medical - topgrossingapplications                    NaN   \n",
       "1000332606    Photo-and-Video - topfreeapplications                NaN   \n",
       "              Photo-and-Video - topgrossingapplications            NaN   \n",
       "\n",
       "date                                                        2016-12-15  \\\n",
       "itunes_app_id rating_list                                                \n",
       "1000017994    Health-and-fitness - topfreeapplications           193.0   \n",
       "              Health-and-fitness - topgrossingapplications         NaN   \n",
       "1000247107    Medical - topgrossingapplications                    NaN   \n",
       "1000332606    Photo-and-Video - topfreeapplications                NaN   \n",
       "              Photo-and-Video - topgrossingapplications            NaN   \n",
       "\n",
       "date                                                        2016-12-16  \\\n",
       "itunes_app_id rating_list                                                \n",
       "1000017994    Health-and-fitness - topfreeapplications           164.0   \n",
       "              Health-and-fitness - topgrossingapplications         NaN   \n",
       "1000247107    Medical - topgrossingapplications                    NaN   \n",
       "1000332606    Photo-and-Video - topfreeapplications                NaN   \n",
       "              Photo-and-Video - topgrossingapplications            NaN   \n",
       "\n",
       "date                                                        2016-12-17  ...  \\\n",
       "itunes_app_id rating_list                                               ...   \n",
       "1000017994    Health-and-fitness - topfreeapplications           136.0  ...   \n",
       "              Health-and-fitness - topgrossingapplications         NaN  ...   \n",
       "1000247107    Medical - topgrossingapplications                    NaN  ...   \n",
       "1000332606    Photo-and-Video - topfreeapplications                NaN  ...   \n",
       "              Photo-and-Video - topgrossingapplications            NaN  ...   \n",
       "\n",
       "date                                                        2019-06-02  \\\n",
       "itunes_app_id rating_list                                                \n",
       "1000017994    Health-and-fitness - topfreeapplications             NaN   \n",
       "              Health-and-fitness - topgrossingapplications         NaN   \n",
       "1000247107    Medical - topgrossingapplications                    NaN   \n",
       "1000332606    Photo-and-Video - topfreeapplications                NaN   \n",
       "              Photo-and-Video - topgrossingapplications          176.0   \n",
       "\n",
       "date                                                        2019-06-03  \\\n",
       "itunes_app_id rating_list                                                \n",
       "1000017994    Health-and-fitness - topfreeapplications             NaN   \n",
       "              Health-and-fitness - topgrossingapplications       183.0   \n",
       "1000247107    Medical - topgrossingapplications                    NaN   \n",
       "1000332606    Photo-and-Video - topfreeapplications                NaN   \n",
       "              Photo-and-Video - topgrossingapplications          165.0   \n",
       "\n",
       "date                                                        2019-06-04  \\\n",
       "itunes_app_id rating_list                                                \n",
       "1000017994    Health-and-fitness - topfreeapplications             NaN   \n",
       "              Health-and-fitness - topgrossingapplications         NaN   \n",
       "1000247107    Medical - topgrossingapplications                    NaN   \n",
       "1000332606    Photo-and-Video - topfreeapplications                NaN   \n",
       "              Photo-and-Video - topgrossingapplications          165.0   \n",
       "\n",
       "date                                                        2019-06-05  \\\n",
       "itunes_app_id rating_list                                                \n",
       "1000017994    Health-and-fitness - topfreeapplications           125.0   \n",
       "              Health-and-fitness - topgrossingapplications         NaN   \n",
       "1000247107    Medical - topgrossingapplications                    NaN   \n",
       "1000332606    Photo-and-Video - topfreeapplications                NaN   \n",
       "              Photo-and-Video - topgrossingapplications          165.0   \n",
       "\n",
       "date                                                        2019-06-06  \\\n",
       "itunes_app_id rating_list                                                \n",
       "1000017994    Health-and-fitness - topfreeapplications           109.0   \n",
       "              Health-and-fitness - topgrossingapplications         NaN   \n",
       "1000247107    Medical - topgrossingapplications                    NaN   \n",
       "1000332606    Photo-and-Video - topfreeapplications                NaN   \n",
       "              Photo-and-Video - topgrossingapplications          157.0   \n",
       "\n",
       "date                                                        2019-06-07  \\\n",
       "itunes_app_id rating_list                                                \n",
       "1000017994    Health-and-fitness - topfreeapplications           125.0   \n",
       "              Health-and-fitness - topgrossingapplications       183.0   \n",
       "1000247107    Medical - topgrossingapplications                    NaN   \n",
       "1000332606    Photo-and-Video - topfreeapplications                NaN   \n",
       "              Photo-and-Video - topgrossingapplications          176.0   \n",
       "\n",
       "date                                                        2019-06-08  \\\n",
       "itunes_app_id rating_list                                                \n",
       "1000017994    Health-and-fitness - topfreeapplications             NaN   \n",
       "              Health-and-fitness - topgrossingapplications         NaN   \n",
       "1000247107    Medical - topgrossingapplications                    NaN   \n",
       "1000332606    Photo-and-Video - topfreeapplications                NaN   \n",
       "              Photo-and-Video - topgrossingapplications          165.0   \n",
       "\n",
       "date                                                        2019-06-09  \\\n",
       "itunes_app_id rating_list                                                \n",
       "1000017994    Health-and-fitness - topfreeapplications           125.0   \n",
       "              Health-and-fitness - topgrossingapplications         NaN   \n",
       "1000247107    Medical - topgrossingapplications                    NaN   \n",
       "1000332606    Photo-and-Video - topfreeapplications                NaN   \n",
       "              Photo-and-Video - topgrossingapplications          165.0   \n",
       "\n",
       "date                                                        2019-06-10  \\\n",
       "itunes_app_id rating_list                                                \n",
       "1000017994    Health-and-fitness - topfreeapplications           125.0   \n",
       "              Health-and-fitness - topgrossingapplications         NaN   \n",
       "1000247107    Medical - topgrossingapplications                    NaN   \n",
       "1000332606    Photo-and-Video - topfreeapplications                NaN   \n",
       "              Photo-and-Video - topgrossingapplications          176.0   \n",
       "\n",
       "date                                                        2019-06-11  \n",
       "itunes_app_id rating_list                                               \n",
       "1000017994    Health-and-fitness - topfreeapplications           125.0  \n",
       "              Health-and-fitness - topgrossingapplications         NaN  \n",
       "1000247107    Medical - topgrossingapplications                    NaN  \n",
       "1000332606    Photo-and-Video - topfreeapplications                NaN  \n",
       "              Photo-and-Video - topgrossingapplications          165.0  \n",
       "\n",
       "[5 rows x 849 columns]"
      ]
     },
     "execution_count": 18,
     "metadata": {},
     "output_type": "execute_result"
    }
   ],
   "source": [
    "subscribe_rank_df.head()"
   ]
  },
  {
   "cell_type": "code",
   "execution_count": 19,
   "metadata": {},
   "outputs": [],
   "source": [
    "clean_subscribe_rank_df = subscribe_rank2_df.ffill(axis = 1)"
   ]
  },
  {
   "cell_type": "markdown",
   "metadata": {},
   "source": [
    "Get the last 365 days of the rank data. "
   ]
  },
  {
   "cell_type": "code",
   "execution_count": 20,
   "metadata": {},
   "outputs": [],
   "source": [
    "clean_subscribe_rank_df_365 = clean_subscribe_rank_df.iloc[:,-365:].copy()"
   ]
  },
  {
   "cell_type": "markdown",
   "metadata": {},
   "source": [
    "The missing value here comes from the app does not exist in the app store yet. Fill the rest of missing values with 300"
   ]
  },
  {
   "cell_type": "code",
   "execution_count": 21,
   "metadata": {},
   "outputs": [],
   "source": [
    "clean_subscribe_rank_df_365.fillna(300, inplace = True)"
   ]
  },
  {
   "cell_type": "markdown",
   "metadata": {},
   "source": [
    "No more missing values."
   ]
  },
  {
   "cell_type": "code",
   "execution_count": 22,
   "metadata": {},
   "outputs": [
    {
     "data": {
      "text/plain": [
       "0"
      ]
     },
     "execution_count": 22,
     "metadata": {},
     "output_type": "execute_result"
    }
   ],
   "source": [
    "sum(clean_subscribe_rank_df_365.isna().sum())"
   ]
  },
  {
   "cell_type": "markdown",
   "metadata": {},
   "source": [
    "## get the growth rate through a simple linear regression"
   ]
  },
  {
   "cell_type": "markdown",
   "metadata": {},
   "source": [
    "There are many approaches to compare growth rate among apps. I choose to do a simple linear regression on the rank data vs timestep. Then, the slope is extracted. A more negative value in slope means a quicker growth while a more positive slope means a decrease in rank. "
   ]
  },
  {
   "cell_type": "code",
   "execution_count": 23,
   "metadata": {},
   "outputs": [],
   "source": [
    "def get_growth_rate(rank_data):\n",
    "    x = range(365)\n",
    "    y = rank_data\n",
    "    slope, intercept, r_value, p_value, std_err = linregress(x,y)\n",
    "    if p_value < 0.05:\n",
    "        return slope\n",
    "    elif p_value >= 0.05:\n",
    "        return 0    "
   ]
  },
  {
   "cell_type": "code",
   "execution_count": 24,
   "metadata": {},
   "outputs": [],
   "source": [
    "growth_rate_list = [get_growth_rate(clean_subscribe_rank_df_365.iloc[i,]) for i in range(clean_subscribe_rank_df_365.shape[0])]"
   ]
  },
  {
   "cell_type": "code",
   "execution_count": 25,
   "metadata": {},
   "outputs": [],
   "source": [
    "clean_subscribe_rank_df_365['growth_rate'] = growth_rate_list"
   ]
  },
  {
   "cell_type": "markdown",
   "metadata": {},
   "source": [
    "Sort the dataframe by the growth rate and find out the top 300 apps that have the best growth in the past 365 days. "
   ]
  },
  {
   "cell_type": "code",
   "execution_count": 26,
   "metadata": {},
   "outputs": [],
   "source": [
    "growth_df = clean_subscribe_rank_df_365.sort_values(by = \"growth_rate\").iloc[:300,-2:]"
   ]
  },
  {
   "cell_type": "code",
   "execution_count": 27,
   "metadata": {},
   "outputs": [],
   "source": [
    "app_info_growth_df = growth_df.join(subscribe_app_info , on = \"itunes_app_id\", how = \"left\")"
   ]
  },
  {
   "cell_type": "code",
   "execution_count": 28,
   "metadata": {},
   "outputs": [
    {
     "data": {
      "text/html": [
       "<div>\n",
       "<style scoped>\n",
       "    .dataframe tbody tr th:only-of-type {\n",
       "        vertical-align: middle;\n",
       "    }\n",
       "\n",
       "    .dataframe tbody tr th {\n",
       "        vertical-align: top;\n",
       "    }\n",
       "\n",
       "    .dataframe thead th {\n",
       "        text-align: right;\n",
       "    }\n",
       "</style>\n",
       "<table border=\"1\" class=\"dataframe\">\n",
       "  <thead>\n",
       "    <tr style=\"text-align: right;\">\n",
       "      <th></th>\n",
       "      <th></th>\n",
       "      <th>2019-06-11</th>\n",
       "      <th>growth_rate</th>\n",
       "      <th>app_name</th>\n",
       "      <th>developer</th>\n",
       "      <th>website</th>\n",
       "      <th>category</th>\n",
       "      <th>is_editor_choice</th>\n",
       "      <th>rating_oo5</th>\n",
       "      <th>num_ratings</th>\n",
       "      <th>has_iap</th>\n",
       "      <th>...</th>\n",
       "      <th>age_rating</th>\n",
       "      <th>file_size</th>\n",
       "      <th>editor_notes</th>\n",
       "      <th>description</th>\n",
       "      <th>os_compatibility</th>\n",
       "      <th>languages</th>\n",
       "      <th>price</th>\n",
       "      <th>itunes_link</th>\n",
       "      <th>date</th>\n",
       "      <th>subscription</th>\n",
       "    </tr>\n",
       "    <tr>\n",
       "      <th>itunes_app_id</th>\n",
       "      <th>rating_list</th>\n",
       "      <th></th>\n",
       "      <th></th>\n",
       "      <th></th>\n",
       "      <th></th>\n",
       "      <th></th>\n",
       "      <th></th>\n",
       "      <th></th>\n",
       "      <th></th>\n",
       "      <th></th>\n",
       "      <th></th>\n",
       "      <th></th>\n",
       "      <th></th>\n",
       "      <th></th>\n",
       "      <th></th>\n",
       "      <th></th>\n",
       "      <th></th>\n",
       "      <th></th>\n",
       "      <th></th>\n",
       "      <th></th>\n",
       "      <th></th>\n",
       "      <th></th>\n",
       "    </tr>\n",
       "  </thead>\n",
       "  <tbody>\n",
       "    <tr>\n",
       "      <th rowspan=\"2\" valign=\"top\">352509417</th>\n",
       "      <th>Newstand - topgrossingapplications</th>\n",
       "      <td>4.0</td>\n",
       "      <td>-1.216438</td>\n",
       "      <td>Washington Post</td>\n",
       "      <td>The Washington Post</td>\n",
       "      <td>https://www.washingtonpost.com</td>\n",
       "      <td>News</td>\n",
       "      <td>False</td>\n",
       "      <td>4.8</td>\n",
       "      <td>131300</td>\n",
       "      <td>True</td>\n",
       "      <td>...</td>\n",
       "      <td>Rated 12+ for the following:</td>\n",
       "      <td>131.7 MB</td>\n",
       "      <td>NaN</td>\n",
       "      <td>\\nDescription\\n\\n\\nStay informed with award-wi...</td>\n",
       "      <td>Requires iOS 10.0 or later. Compatible with iP...</td>\n",
       "      <td>English</td>\n",
       "      <td>Free</td>\n",
       "      <td>https://itunes.apple.com/app/id352509417</td>\n",
       "      <td>2019-06-11-1512</td>\n",
       "      <td>Yes</td>\n",
       "    </tr>\n",
       "    <tr>\n",
       "      <th>Newstand - topfreeapplications</th>\n",
       "      <td>4.0</td>\n",
       "      <td>-1.213315</td>\n",
       "      <td>Washington Post</td>\n",
       "      <td>The Washington Post</td>\n",
       "      <td>https://www.washingtonpost.com</td>\n",
       "      <td>News</td>\n",
       "      <td>False</td>\n",
       "      <td>4.8</td>\n",
       "      <td>131300</td>\n",
       "      <td>True</td>\n",
       "      <td>...</td>\n",
       "      <td>Rated 12+ for the following:</td>\n",
       "      <td>131.7 MB</td>\n",
       "      <td>NaN</td>\n",
       "      <td>\\nDescription\\n\\n\\nStay informed with award-wi...</td>\n",
       "      <td>Requires iOS 10.0 or later. Compatible with iP...</td>\n",
       "      <td>English</td>\n",
       "      <td>Free</td>\n",
       "      <td>https://itunes.apple.com/app/id352509417</td>\n",
       "      <td>2019-06-11-1512</td>\n",
       "      <td>Yes</td>\n",
       "    </tr>\n",
       "    <tr>\n",
       "      <th>938922398</th>\n",
       "      <th>Newstand - topgrossingapplications</th>\n",
       "      <td>3.0</td>\n",
       "      <td>-1.213013</td>\n",
       "      <td>Washington Post Select</td>\n",
       "      <td>The Washington Post</td>\n",
       "      <td>https://www.washingtonpost.com/mobile/</td>\n",
       "      <td>News</td>\n",
       "      <td>False</td>\n",
       "      <td>4.8</td>\n",
       "      <td>98000</td>\n",
       "      <td>True</td>\n",
       "      <td>...</td>\n",
       "      <td>Rated 12+ for the following:</td>\n",
       "      <td>97.1 MB</td>\n",
       "      <td>NaN</td>\n",
       "      <td>\\nDescription\\n\\n\\nDesigned for iPhone, iPad, ...</td>\n",
       "      <td>Requires iOS 10.3 or later. Compatible with iP...</td>\n",
       "      <td>English, Spanish</td>\n",
       "      <td>Free</td>\n",
       "      <td>https://itunes.apple.com/app/id938922398</td>\n",
       "      <td>2019-06-11-1512</td>\n",
       "      <td>Yes</td>\n",
       "    </tr>\n",
       "    <tr>\n",
       "      <th>1419779267</th>\n",
       "      <th>News - topgrossingapplications</th>\n",
       "      <td>9.0</td>\n",
       "      <td>-1.192442</td>\n",
       "      <td>Fox Nation: Opinion Done Right</td>\n",
       "      <td>Fox News Network, LLC</td>\n",
       "      <td>http://nation.foxnews.com/</td>\n",
       "      <td>News</td>\n",
       "      <td>False</td>\n",
       "      <td>4.7</td>\n",
       "      <td>4900</td>\n",
       "      <td>True</td>\n",
       "      <td>...</td>\n",
       "      <td>Rated 12+ for the following:</td>\n",
       "      <td>69.5 MB</td>\n",
       "      <td>NaN</td>\n",
       "      <td>\\nDescription\\n\\n\\nFox Nation is the ultimate ...</td>\n",
       "      <td>Requires iOS 11.0 or later. Compatible with iP...</td>\n",
       "      <td>English</td>\n",
       "      <td>Free</td>\n",
       "      <td>https://itunes.apple.com/app/id1419779267</td>\n",
       "      <td>2019-06-11-1512</td>\n",
       "      <td>Yes</td>\n",
       "    </tr>\n",
       "    <tr>\n",
       "      <th>938922398</th>\n",
       "      <th>Newstand - topfreeapplications</th>\n",
       "      <td>8.0</td>\n",
       "      <td>-1.191679</td>\n",
       "      <td>Washington Post Select</td>\n",
       "      <td>The Washington Post</td>\n",
       "      <td>https://www.washingtonpost.com/mobile/</td>\n",
       "      <td>News</td>\n",
       "      <td>False</td>\n",
       "      <td>4.8</td>\n",
       "      <td>98000</td>\n",
       "      <td>True</td>\n",
       "      <td>...</td>\n",
       "      <td>Rated 12+ for the following:</td>\n",
       "      <td>97.1 MB</td>\n",
       "      <td>NaN</td>\n",
       "      <td>\\nDescription\\n\\n\\nDesigned for iPhone, iPad, ...</td>\n",
       "      <td>Requires iOS 10.3 or later. Compatible with iP...</td>\n",
       "      <td>English, Spanish</td>\n",
       "      <td>Free</td>\n",
       "      <td>https://itunes.apple.com/app/id938922398</td>\n",
       "      <td>2019-06-11-1512</td>\n",
       "      <td>Yes</td>\n",
       "    </tr>\n",
       "  </tbody>\n",
       "</table>\n",
       "<p>5 rows × 22 columns</p>\n",
       "</div>"
      ],
      "text/plain": [
       "                                                  2019-06-11  growth_rate  \\\n",
       "itunes_app_id rating_list                                                   \n",
       "352509417     Newstand - topgrossingapplications         4.0    -1.216438   \n",
       "              Newstand - topfreeapplications             4.0    -1.213315   \n",
       "938922398     Newstand - topgrossingapplications         3.0    -1.213013   \n",
       "1419779267    News - topgrossingapplications             9.0    -1.192442   \n",
       "938922398     Newstand - topfreeapplications             8.0    -1.191679   \n",
       "\n",
       "                                                                        app_name  \\\n",
       "itunes_app_id rating_list                                                          \n",
       "352509417     Newstand - topgrossingapplications                 Washington Post   \n",
       "              Newstand - topfreeapplications                     Washington Post   \n",
       "938922398     Newstand - topgrossingapplications          Washington Post Select   \n",
       "1419779267    News - topgrossingapplications      Fox Nation: Opinion Done Right   \n",
       "938922398     Newstand - topfreeapplications              Washington Post Select   \n",
       "\n",
       "                                                              developer  \\\n",
       "itunes_app_id rating_list                                                 \n",
       "352509417     Newstand - topgrossingapplications    The Washington Post   \n",
       "              Newstand - topfreeapplications        The Washington Post   \n",
       "938922398     Newstand - topgrossingapplications    The Washington Post   \n",
       "1419779267    News - topgrossingapplications      Fox News Network, LLC   \n",
       "938922398     Newstand - topfreeapplications        The Washington Post   \n",
       "\n",
       "                                                                                 website  \\\n",
       "itunes_app_id rating_list                                                                  \n",
       "352509417     Newstand - topgrossingapplications          https://www.washingtonpost.com   \n",
       "              Newstand - topfreeapplications              https://www.washingtonpost.com   \n",
       "938922398     Newstand - topgrossingapplications  https://www.washingtonpost.com/mobile/   \n",
       "1419779267    News - topgrossingapplications                  http://nation.foxnews.com/   \n",
       "938922398     Newstand - topfreeapplications      https://www.washingtonpost.com/mobile/   \n",
       "\n",
       "                                                 category is_editor_choice  \\\n",
       "itunes_app_id rating_list                                                    \n",
       "352509417     Newstand - topgrossingapplications     News            False   \n",
       "              Newstand - topfreeapplications         News            False   \n",
       "938922398     Newstand - topgrossingapplications     News            False   \n",
       "1419779267    News - topgrossingapplications         News            False   \n",
       "938922398     Newstand - topfreeapplications         News            False   \n",
       "\n",
       "                                                 rating_oo5 num_ratings  \\\n",
       "itunes_app_id rating_list                                                 \n",
       "352509417     Newstand - topgrossingapplications        4.8      131300   \n",
       "              Newstand - topfreeapplications            4.8      131300   \n",
       "938922398     Newstand - topgrossingapplications        4.8       98000   \n",
       "1419779267    News - topgrossingapplications            4.7        4900   \n",
       "938922398     Newstand - topfreeapplications            4.8       98000   \n",
       "\n",
       "                                                 has_iap  ...  \\\n",
       "itunes_app_id rating_list                                 ...   \n",
       "352509417     Newstand - topgrossingapplications    True  ...   \n",
       "              Newstand - topfreeapplications        True  ...   \n",
       "938922398     Newstand - topgrossingapplications    True  ...   \n",
       "1419779267    News - topgrossingapplications        True  ...   \n",
       "938922398     Newstand - topfreeapplications        True  ...   \n",
       "\n",
       "                                                                    age_rating  \\\n",
       "itunes_app_id rating_list                                                        \n",
       "352509417     Newstand - topgrossingapplications  Rated 12+ for the following:   \n",
       "              Newstand - topfreeapplications      Rated 12+ for the following:   \n",
       "938922398     Newstand - topgrossingapplications  Rated 12+ for the following:   \n",
       "1419779267    News - topgrossingapplications      Rated 12+ for the following:   \n",
       "938922398     Newstand - topfreeapplications      Rated 12+ for the following:   \n",
       "\n",
       "                                                 file_size editor_notes  \\\n",
       "itunes_app_id rating_list                                                 \n",
       "352509417     Newstand - topgrossingapplications  131.7 MB          NaN   \n",
       "              Newstand - topfreeapplications      131.7 MB          NaN   \n",
       "938922398     Newstand - topgrossingapplications   97.1 MB          NaN   \n",
       "1419779267    News - topgrossingapplications       69.5 MB          NaN   \n",
       "938922398     Newstand - topfreeapplications       97.1 MB          NaN   \n",
       "\n",
       "                                                                                        description  \\\n",
       "itunes_app_id rating_list                                                                             \n",
       "352509417     Newstand - topgrossingapplications  \\nDescription\\n\\n\\nStay informed with award-wi...   \n",
       "              Newstand - topfreeapplications      \\nDescription\\n\\n\\nStay informed with award-wi...   \n",
       "938922398     Newstand - topgrossingapplications  \\nDescription\\n\\n\\nDesigned for iPhone, iPad, ...   \n",
       "1419779267    News - topgrossingapplications      \\nDescription\\n\\n\\nFox Nation is the ultimate ...   \n",
       "938922398     Newstand - topfreeapplications      \\nDescription\\n\\n\\nDesigned for iPhone, iPad, ...   \n",
       "\n",
       "                                                                                   os_compatibility  \\\n",
       "itunes_app_id rating_list                                                                             \n",
       "352509417     Newstand - topgrossingapplications  Requires iOS 10.0 or later. Compatible with iP...   \n",
       "              Newstand - topfreeapplications      Requires iOS 10.0 or later. Compatible with iP...   \n",
       "938922398     Newstand - topgrossingapplications  Requires iOS 10.3 or later. Compatible with iP...   \n",
       "1419779267    News - topgrossingapplications      Requires iOS 11.0 or later. Compatible with iP...   \n",
       "938922398     Newstand - topfreeapplications      Requires iOS 10.3 or later. Compatible with iP...   \n",
       "\n",
       "                                                         languages price  \\\n",
       "itunes_app_id rating_list                                                  \n",
       "352509417     Newstand - topgrossingapplications           English  Free   \n",
       "              Newstand - topfreeapplications               English  Free   \n",
       "938922398     Newstand - topgrossingapplications  English, Spanish  Free   \n",
       "1419779267    News - topgrossingapplications               English  Free   \n",
       "938922398     Newstand - topfreeapplications      English, Spanish  Free   \n",
       "\n",
       "                                                                                itunes_link  \\\n",
       "itunes_app_id rating_list                                                                     \n",
       "352509417     Newstand - topgrossingapplications   https://itunes.apple.com/app/id352509417   \n",
       "              Newstand - topfreeapplications       https://itunes.apple.com/app/id352509417   \n",
       "938922398     Newstand - topgrossingapplications   https://itunes.apple.com/app/id938922398   \n",
       "1419779267    News - topgrossingapplications      https://itunes.apple.com/app/id1419779267   \n",
       "938922398     Newstand - topfreeapplications       https://itunes.apple.com/app/id938922398   \n",
       "\n",
       "                                                             date subscription  \n",
       "itunes_app_id rating_list                                                       \n",
       "352509417     Newstand - topgrossingapplications  2019-06-11-1512          Yes  \n",
       "              Newstand - topfreeapplications      2019-06-11-1512          Yes  \n",
       "938922398     Newstand - topgrossingapplications  2019-06-11-1512          Yes  \n",
       "1419779267    News - topgrossingapplications      2019-06-11-1512          Yes  \n",
       "938922398     Newstand - topfreeapplications      2019-06-11-1512          Yes  \n",
       "\n",
       "[5 rows x 22 columns]"
      ]
     },
     "execution_count": 28,
     "metadata": {},
     "output_type": "execute_result"
    }
   ],
   "source": [
    "app_info_growth_df.head()"
   ]
  },
  {
   "cell_type": "markdown",
   "metadata": {},
   "source": [
    "Write the data to disk. "
   ]
  },
  {
   "cell_type": "code",
   "execution_count": 29,
   "metadata": {},
   "outputs": [],
   "source": [
    "app_info_growth_df.to_csv(\"top300_subscription_app_info.csv\")"
   ]
  }
 ],
 "metadata": {
  "kernelspec": {
   "display_name": "Python 3",
   "language": "python",
   "name": "python3"
  },
  "language_info": {
   "codemirror_mode": {
    "name": "ipython",
    "version": 3
   },
   "file_extension": ".py",
   "mimetype": "text/x-python",
   "name": "python",
   "nbconvert_exporter": "python",
   "pygments_lexer": "ipython3",
   "version": "3.7.3"
  }
 },
 "nbformat": 4,
 "nbformat_minor": 2
}
